{
 "cells": [
  {
   "cell_type": "markdown",
   "id": "baf1a0b5",
   "metadata": {},
   "source": [
    "<h1>First Example</h1>\n",
    "<p>this is a <u>mardown cell</u></p>\n",
    "and some regular text"
   ]
  },
  {
   "cell_type": "code",
   "execution_count": 8,
   "id": "575f5724",
   "metadata": {},
   "outputs": [
    {
     "name": "stdout",
     "output_type": "stream",
     "text": [
      "hello world this is a rather trivial example to look at notebooks\n"
     ]
    }
   ],
   "source": [
    "print(\"hello world this is a rather trivial example to look at notebooks\")"
   ]
  },
  {
   "cell_type": "code",
   "execution_count": 11,
   "id": "c9083cd9",
   "metadata": {},
   "outputs": [
    {
     "name": "stdout",
     "output_type": "stream",
     "text": [
      "The product of 0.1559425132101483 and 0.7137757550612379 is 0.11130798511272066.\n"
     ]
    }
   ],
   "source": [
    "import random\n",
    "x = random.random()\n",
    "y = random.random()\n",
    "product = x * y\n",
    "print(f\"The product of {x} and {y} is {product}.\")"
   ]
  },
  {
   "cell_type": "markdown",
   "id": "d155df19",
   "metadata": {},
   "source": [
    "another markdown cell here at the end"
   ]
  }
 ],
 "metadata": {
  "kernelspec": {
   "display_name": "Python 3 (ipykernel)",
   "language": "python",
   "name": "python3"
  },
  "language_info": {
   "codemirror_mode": {
    "name": "ipython",
    "version": 3
   },
   "file_extension": ".py",
   "mimetype": "text/x-python",
   "name": "python",
   "nbconvert_exporter": "python",
   "pygments_lexer": "ipython3",
   "version": "3.10.3"
  }
 },
 "nbformat": 4,
 "nbformat_minor": 5
}
