{
 "cells": [
  {
   "cell_type": "markdown",
   "id": "8c76e0bb",
   "metadata": {},
   "source": [
    "<h3>3.1 How many seconds are in an hour? Use the interactive interpreter as a calculator and multiply the number of seconds in a minute (60) by the number of minutes in an hour (also 60).</h3>"
   ]
  },
  {
   "cell_type": "code",
   "execution_count": 1,
   "id": "92f52a24",
   "metadata": {},
   "outputs": [
    {
     "data": {
      "text/plain": [
       "3600"
      ]
     },
     "execution_count": 1,
     "metadata": {},
     "output_type": "execute_result"
    }
   ],
   "source": [
    "60 * 60"
   ]
  },
  {
   "cell_type": "markdown",
   "id": "5cccebb2",
   "metadata": {},
   "source": [
    "<h3> 3.2 Assign the result from the previous task (seconds in an hour) to a variable called seconds_per_hour. </h3>"
   ]
  },
  {
   "cell_type": "code",
   "execution_count": 2,
   "id": "681f329d",
   "metadata": {},
   "outputs": [],
   "source": [
    "seconds_per_hour = 60 * 60"
   ]
  },
  {
   "cell_type": "markdown",
   "id": "2716faaa",
   "metadata": {},
   "source": [
    "<h3>3.3 How many seconds are in a day? Use your seconds_per_hour variable.</h3>"
   ]
  },
  {
   "cell_type": "code",
   "execution_count": 3,
   "id": "494a2dfe",
   "metadata": {},
   "outputs": [
    {
     "data": {
      "text/plain": [
       "86400"
      ]
     },
     "execution_count": 3,
     "metadata": {},
     "output_type": "execute_result"
    }
   ],
   "source": [
    "24 * seconds_per_hour"
   ]
  },
  {
   "cell_type": "markdown",
   "id": "41a6c438",
   "metadata": {},
   "source": [
    "<h3>3.4 Calculate seconds per day again, but this time save the result in a variable called seconds_per_day.</h3>"
   ]
  },
  {
   "cell_type": "code",
   "execution_count": 4,
   "id": "84581d73",
   "metadata": {},
   "outputs": [],
   "source": [
    "seconds_per_day = 24 * seconds_per_hour"
   ]
  },
  {
   "cell_type": "markdown",
   "id": "aec8cedf",
   "metadata": {},
   "source": [
    "<h3>3.5 Divide seconds_per_day by seconds_per_hour. Use floating-point (/) division.</h3>"
   ]
  },
  {
   "cell_type": "code",
   "execution_count": 5,
   "id": "515ec9ac",
   "metadata": {},
   "outputs": [
    {
     "data": {
      "text/plain": [
       "24.0"
      ]
     },
     "execution_count": 5,
     "metadata": {},
     "output_type": "execute_result"
    }
   ],
   "source": [
    "seconds_per_day / seconds_per_hour"
   ]
  },
  {
   "cell_type": "markdown",
   "id": "1c962b65",
   "metadata": {},
   "source": [
    "<h3>3.6 Divide seconds_per_day by seconds_per_hour, using integer (//) division. </h3>"
   ]
  },
  {
   "cell_type": "code",
   "execution_count": 6,
   "id": "62ef720f",
   "metadata": {},
   "outputs": [
    {
     "data": {
      "text/plain": [
       "24"
      ]
     },
     "execution_count": 6,
     "metadata": {},
     "output_type": "execute_result"
    }
   ],
   "source": [
    "seconds_per_day // seconds_per_hour"
   ]
  },
  {
   "cell_type": "markdown",
   "id": "bba1a5f2",
   "metadata": {},
   "source": [
    "<h3>Did this number agree with the floating-point value from the previous question, aside from the final .0? </h3>"
   ]
  },
  {
   "cell_type": "markdown",
   "id": "295acb9d",
   "metadata": {},
   "source": [
    "Yes"
   ]
  }
 ],
 "metadata": {
  "kernelspec": {
   "display_name": "Python 3 (ipykernel)",
   "language": "python",
   "name": "python3"
  },
  "language_info": {
   "codemirror_mode": {
    "name": "ipython",
    "version": 3
   },
   "file_extension": ".py",
   "mimetype": "text/x-python",
   "name": "python",
   "nbconvert_exporter": "python",
   "pygments_lexer": "ipython3",
   "version": "3.9.12"
  }
 },
 "nbformat": 4,
 "nbformat_minor": 5
}
