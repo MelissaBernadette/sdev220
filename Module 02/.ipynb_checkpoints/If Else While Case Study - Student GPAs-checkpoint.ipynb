{
 "cells": [
  {
   "cell_type": "markdown",
   "id": "091f9da4",
   "metadata": {},
   "source": [
    "<h1>Melissa Haney</h1>\n",
    "<h3>If Else While Case Study - Student GPAs</h3>\n",
    "\n",
    "This Python app will accept student names and GPAs and test if the student qualifies for either the Dean's List or the Honor Roll. \n",
    "\n",
    "<h4>Variable List</h4>\n",
    "<p>string: student_last_name</p>\n",
    "<p>string: student_first_name</p>\n",
    "<p>string: student_gpa_string</p>\n",
    "<p>float: student_gpa_float</p>"
   ]
  },
  {
   "cell_type": "code",
   "execution_count": 1,
   "id": "8a192180",
   "metadata": {},
   "outputs": [
    {
     "name": "stdout",
     "output_type": "stream",
     "text": [
      "Enter Student Last Name [type to ZZZ to quit]: Green\n",
      "Enter Student First Name: Kelly\n",
      "Enter Student GPA Between 0 and 4: 4\n",
      "\n",
      "Kelly Green has made the Dean's List with a GPA of 4.0\n",
      "\n",
      "Enter Student Last Name [type to ZZZ to quit]: Fields\n",
      "Enter Student First Name: Clover\n",
      "Enter Student GPA Between 0 and 4: 0\n",
      "\n",
      "Clover Fields has a GPA of 0.0\n",
      "\n",
      "Enter Student Last Name [type to ZZZ to quit]: Green\n",
      "Enter Student First Name: Forest\n",
      "Enter Student GPA Between 0 and 4: 3.8\n",
      "\n",
      "Forest Green has made the Dean's List with a GPA of 3.8\n",
      "\n",
      "Enter Student Last Name [type to ZZZ to quit]: Green\n",
      "Enter Student First Name: Leaf\n",
      "Enter Student GPA Between 0 and 4: 3.45\n",
      "\n",
      "Leaf Green has made the Honor Roll with a GPA of 3.45\n",
      "\n",
      "Enter Student Last Name [type to ZZZ to quit]: Green\n",
      "Enter Student First Name: Jungle\n",
      "Enter Student GPA Between 0 and 4: 4.1\n",
      "Oops, Entered Student GPA Not Between 0 and 4.\n",
      "Enter Student GPA between 0 and 4: 3.1\n",
      "\n",
      "Jungle Green has a GPA of 3.1\n",
      "\n",
      "Enter Student Last Name [type to ZZZ to quit]: Green\n",
      "Enter Student First Name: Emerald\n",
      "Enter Student GPA Between 0 and 4: 4.0\n",
      "\n",
      "Emerald Green has made the Dean's List with a GPA of 4.0\n",
      "\n",
      "Enter Student Last Name [type to ZZZ to quit]: ZZZ\n"
     ]
    }
   ],
   "source": [
    "while True:\n",
    "    \n",
    "    #Ask for and accept a student's last name\n",
    "    student_last_name = input(\"Enter Student Last Name [type to ZZZ to quit]: \")\n",
    "    \n",
    "    #Quit processing student records if the last name entered is 'ZZZ'\n",
    "    if student_last_name == \"ZZZ\":\n",
    "        break\n",
    "        \n",
    "    #Ask for and accept a student's first name\n",
    "    student_first_name = input(\"Enter Student First Name: \")\n",
    "    \n",
    "    #Ask for and accept the student's GPA as a float\n",
    "    student_gpa_string = input(\"Enter Student GPA Between 0 and 4: \")\n",
    "    student_gpa_float = float(student_gpa_string) \n",
    "    \n",
    "    #Validate GPA\n",
    "    while student_gpa_float < 0 or student_gpa_float > 4:\n",
    "        student_gpa_string = input(\"Oops, Entered Student GPA Not Between 0 and 4.\"\n",
    "                                   f\"{chr(10)}Enter Student GPA between 0 and 4: \")\n",
    "        student_gpa_float = float(student_gpa_string) \n",
    "    \n",
    "    #Test if the student's GPA is 3.5 or greater and, if so, print a Dean's List message \n",
    "    if student_gpa_float >= 3.5:\n",
    "        print(\n",
    "            f\"{chr(10)}{student_first_name} {student_last_name} has made the Dean's List\" \n",
    "            f\" with a GPA of {student_gpa_float}{chr(10)}\"\n",
    "        )\n",
    "        \n",
    "    #Test if the student's GPA is 3.25 or greater and, if so, print an Honor Roll message\n",
    "    elif student_gpa_float >= 3.25:\n",
    "        print(\n",
    "            f\"{chr(10)}{student_first_name} {student_last_name} has made the Honor Roll\"\n",
    "            f\" with a GPA of {student_gpa_float}{chr(10)}\"\n",
    "        )\n",
    "        \n",
    "    else:\n",
    "        print(\n",
    "            f\"{chr(10)}{student_first_name} {student_last_name}\"\n",
    "            f\" has a GPA of {student_gpa_float}{chr(10)}\"\n",
    "        )\n",
    "        "
   ]
  },
  {
   "cell_type": "code",
   "execution_count": null,
   "id": "2595c26b",
   "metadata": {},
   "outputs": [],
   "source": []
  }
 ],
 "metadata": {
  "kernelspec": {
   "display_name": "Python 3 (ipykernel)",
   "language": "python",
   "name": "python3"
  },
  "language_info": {
   "codemirror_mode": {
    "name": "ipython",
    "version": 3
   },
   "file_extension": ".py",
   "mimetype": "text/x-python",
   "name": "python",
   "nbconvert_exporter": "python",
   "pygments_lexer": "ipython3",
   "version": "3.9.12"
  }
 },
 "nbformat": 4,
 "nbformat_minor": 5
}
