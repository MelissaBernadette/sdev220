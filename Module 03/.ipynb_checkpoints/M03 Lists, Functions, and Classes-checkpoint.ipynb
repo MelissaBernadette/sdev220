{
 "cells": [
  {
   "cell_type": "markdown",
   "id": "cbc992d2",
   "metadata": {},
   "source": [
    "<h1>Melissa Haney</h1>\n",
    "<h2>M03 Lists, Functions, and Classes</h2>\n",
    "\n",
    "This Python App will accept user input for a car and then output the data in an easy-to-read format.\n",
    "\n",
    "<h3>Variables</h3>\n",
    "<p>car (Automobile)</p>\n",
    "<p>doors (int)</p>\n",
    "<p>make (str)</p>\n",
    "<p>model (str)</p>\n",
    "<p>roof (str)</p>\n",
    "<p>year(int)</p>"
   ]
  },
  {
   "cell_type": "markdown",
   "id": "6094f4ef",
   "metadata": {},
   "source": [
    "<h3> Python App </h3>\n",
    "\n",
    "Start with a super class called Vehicle, which contains an attribute for vehicle type, such as car, truck, plane, boat, or a broomstick.\n",
    "A class called Automobile which will inherit the attributes from Vehicle and also contain additional attributes."
   ]
  },
  {
   "cell_type": "code",
   "execution_count": null,
   "id": "811a62d7",
   "metadata": {},
   "outputs": [],
   "source": [
    "class Vehicle():\n",
    "    def __init__(self, type):\n",
    "        self.type = type\n",
    "\n",
    "class Automobile(Vehicle):\n",
    "    def __init__(self, type, year, make, model, doors, roof):\n",
    "        super().__init__(type = 'Car')\n",
    "        self.year = year\n",
    "        self.make = make\n",
    "        self.model = model\n",
    "        self.doors = doors\n",
    "        self.roof = roof"
   ]
  },
  {
   "cell_type": "markdown",
   "id": "9aa50c2b",
   "metadata": {},
   "source": [
    "Write an app that will accept user input for a car. The app will store \"car\" into the vehicle type in your Vehicle super class. The app will then ask the user for the year, make, model, doors, and type of roof and store the data in the attributes above."
   ]
  },
  {
   "cell_type": "code",
   "execution_count": null,
   "id": "4e5f81c0",
   "metadata": {},
   "outputs": [],
   "source": [
    "print('This Python App will accept user input for a car' \n",
    "      f' and then output the data in an easy-to-read format.{chr(10)}'\n",
    "     )\n",
    "\n",
    "#validation function, check for positive integer input\n",
    "def get_positive_int(prompt):\n",
    "    while True:\n",
    "        try:\n",
    "            value = int(input(prompt))\n",
    "        except ValueError:\n",
    "            print(\"Oops. I don't understand that. Please enter an integer.\")\n",
    "            continue\n",
    "        if value < 0:\n",
    "            print(\"Oops. I don't understand that. Please enter a positive integer.\")\n",
    "            continue\n",
    "        else:\n",
    "            break\n",
    "    return value\n",
    "\n",
    "year = get_positive_int(\"Enter Year: \")\n",
    "make = input(\"Enter Make: \")\n",
    "model = input(\"Enter Model: \")\n",
    "doors = get_positive_int(\"Enter Doors (2 or 4): \")\n",
    "\n",
    "#validate for 'solid' or 'sun roof' input\n",
    "while True:\n",
    "    try:\n",
    "        roof = input(\"Enter Roof (solid or sun roof): \")\n",
    "    except ValueError:\n",
    "        print(\"Oops. I don't understand that. Please enter 'solid' or 'sun roof'.\")\n",
    "        continue\n",
    "    if roof.lower() not in ('solid', 'sun roof'):\n",
    "        print(\"Oops. I don't understand that. Please enter 'solid' or 'sun roof'.\")\n",
    "        continue\n",
    "    else:\n",
    "        break\n",
    "\n",
    "#store input in Automobile class\n",
    "car =  Automobile(\"\", year, make, model, doors, roof)\n",
    "\n",
    "#output data into easy-to-read format\n",
    "print(f'{chr(10)}Vehicle Type: {car.type}'\n",
    "      f'{chr(10)}Year: {car.year}'\n",
    "      f'{chr(10)}Make: {car.make.capitalize()}'\n",
    "      f'{chr(10)}Model: {car.model.capitalize()}'\n",
    "      f'{chr(10)}Number of Doors: {car.doors}'\n",
    "      f'{chr(10)}Type of Roof: {car.roof.capitalize()}{chr(10)}'\n",
    "     )"
   ]
  }
 ],
 "metadata": {
  "kernelspec": {
   "display_name": "Python 3 (ipykernel)",
   "language": "python",
   "name": "python3"
  },
  "language_info": {
   "codemirror_mode": {
    "name": "ipython",
    "version": 3
   },
   "file_extension": ".py",
   "mimetype": "text/x-python",
   "name": "python",
   "nbconvert_exporter": "python",
   "pygments_lexer": "ipython3",
   "version": "3.9.12"
  }
 },
 "nbformat": 4,
 "nbformat_minor": 5
}
