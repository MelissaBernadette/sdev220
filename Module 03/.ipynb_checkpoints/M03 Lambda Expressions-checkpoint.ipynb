{
 "cells": [
  {
   "cell_type": "markdown",
   "id": "daaa0a35",
   "metadata": {},
   "source": [
    "Square"
   ]
  },
  {
   "cell_type": "code",
   "execution_count": 5,
   "id": "0cdb7ee0",
   "metadata": {},
   "outputs": [
    {
     "name": "stdout",
     "output_type": "stream",
     "text": [
      "[25, 16, 9]\n"
     ]
    }
   ],
   "source": [
    "my_list = [5, 4, 3]\n",
    "\n",
    "new_list = list(map(lambda num: num**2, my_list))\n",
    "\n",
    "print(new_list)"
   ]
  },
  {
   "cell_type": "markdown",
   "id": "aaa0e0a4",
   "metadata": {},
   "source": [
    "List Sorting"
   ]
  },
  {
   "cell_type": "code",
   "execution_count": 7,
   "id": "03c98789",
   "metadata": {},
   "outputs": [
    {
     "name": "stdout",
     "output_type": "stream",
     "text": [
      "[(10, -1), (0, 2), (4, 3), (9, 9)]\n"
     ]
    }
   ],
   "source": [
    "a = [(0,2), (4,3), (9,9), (10,-1)]\n",
    "a.sort(key=lambda x: x[1])\n",
    "print(a)"
   ]
  }
 ],
 "metadata": {
  "kernelspec": {
   "display_name": "Python 3 (ipykernel)",
   "language": "python",
   "name": "python3"
  },
  "language_info": {
   "codemirror_mode": {
    "name": "ipython",
    "version": 3
   },
   "file_extension": ".py",
   "mimetype": "text/x-python",
   "name": "python",
   "nbconvert_exporter": "python",
   "pygments_lexer": "ipython3",
   "version": "3.9.12"
  }
 },
 "nbformat": 4,
 "nbformat_minor": 5
}
