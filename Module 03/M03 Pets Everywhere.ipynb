{
 "cells": [
  {
   "cell_type": "markdown",
   "id": "2bfed9cd",
   "metadata": {},
   "source": [
    "Exercise: Pets Everywhere"
   ]
  },
  {
   "cell_type": "code",
   "execution_count": 7,
   "id": "b1d13df9",
   "metadata": {},
   "outputs": [],
   "source": [
    "class Pets():\n",
    "    animals = []\n",
    "    def __init__(self, animals):\n",
    "        self.animals = animals\n",
    "\n",
    "    def walk(self):\n",
    "        for animal in self.animals:\n",
    "            print(animal.walk())\n",
    "\n",
    "class Cat():\n",
    "    is_lazy = True\n",
    "\n",
    "    def __init__(self, name, age):\n",
    "        self.name = name\n",
    "        self.age = age\n",
    "\n",
    "    def walk(self):\n",
    "        return f'{self.name} is just walking around'\n",
    "\n",
    "class Simon(Cat):\n",
    "    def sing(self, sounds):\n",
    "        return f'{sounds}'\n",
    "\n",
    "class Sally(Cat):\n",
    "    def sing(self, sounds):\n",
    "        return f'{sounds}'"
   ]
  },
  {
   "cell_type": "markdown",
   "id": "1203ba68",
   "metadata": {},
   "source": [
    "#1 Add nother Cat"
   ]
  },
  {
   "cell_type": "code",
   "execution_count": 8,
   "id": "f14dd0d7",
   "metadata": {},
   "outputs": [],
   "source": [
    "class Lucifer(Cat):\n",
    "    def sing(self, sounds):\n",
    "        return f'{sounds}'"
   ]
  },
  {
   "cell_type": "markdown",
   "id": "5c815e6c",
   "metadata": {},
   "source": [
    "#2 Create a list of all of the pets (create 3 cat instances from the above)"
   ]
  },
  {
   "cell_type": "code",
   "execution_count": 9,
   "id": "465fe5b0",
   "metadata": {},
   "outputs": [],
   "source": [
    "simon = Simon('Simon', 3)\n",
    "sally = Sally('Sally', 8)\n",
    "lucifer = Lucifer('Lucifer', 13)\n",
    "\n",
    "my_cats = [simon, sally, lucifer]"
   ]
  },
  {
   "cell_type": "markdown",
   "id": "1011c091",
   "metadata": {},
   "source": [
    "#3 Instantiate the Pet class with all your cats use variable my_pets"
   ]
  },
  {
   "cell_type": "code",
   "execution_count": 10,
   "id": "1aa38fd2",
   "metadata": {},
   "outputs": [],
   "source": [
    "my_pets = Pets(my_cats)"
   ]
  },
  {
   "cell_type": "markdown",
   "id": "1e521d28",
   "metadata": {},
   "source": [
    "#4 Output all of the cats walking using the my_pets instance"
   ]
  },
  {
   "cell_type": "code",
   "execution_count": 11,
   "id": "dffc452f",
   "metadata": {},
   "outputs": [
    {
     "name": "stdout",
     "output_type": "stream",
     "text": [
      "Simon is just walking around\n",
      "Sally is just walking around\n",
      "Lucifer is just walking around\n"
     ]
    }
   ],
   "source": [
    "my_pets.walk()"
   ]
  },
  {
   "cell_type": "code",
   "execution_count": null,
   "id": "8342351f",
   "metadata": {},
   "outputs": [],
   "source": []
  }
 ],
 "metadata": {
  "kernelspec": {
   "display_name": "Python 3 (ipykernel)",
   "language": "python",
   "name": "python3"
  },
  "language_info": {
   "codemirror_mode": {
    "name": "ipython",
    "version": 3
   },
   "file_extension": ".py",
   "mimetype": "text/x-python",
   "name": "python",
   "nbconvert_exporter": "python",
   "pygments_lexer": "ipython3",
   "version": "3.9.12"
  }
 },
 "nbformat": 4,
 "nbformat_minor": 5
}
