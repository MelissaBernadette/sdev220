{
 "cells": [
  {
   "cell_type": "markdown",
   "id": "310f86d6",
   "metadata": {},
   "source": [
    "<h3> Testing Your Code </h3>"
   ]
  },
  {
   "cell_type": "code",
   "execution_count": 6,
   "id": "77dcd87b",
   "metadata": {},
   "outputs": [
    {
     "name": "stdout",
     "output_type": "stream",
     "text": [
      "Everything passed\n"
     ]
    }
   ],
   "source": [
    "def test_sum():\n",
    "    assert sum([1, 2, 3]) == 6, \"Should be 6\"\n",
    "\n",
    "if __name__ == '__main__':\n",
    "    test_sum()\n",
    "    print(\"Everything passed\")\n"
   ]
  },
  {
   "cell_type": "code",
   "execution_count": 7,
   "id": "5a97b66d",
   "metadata": {},
   "outputs": [
    {
     "ename": "AssertionError",
     "evalue": "Should be 6",
     "output_type": "error",
     "traceback": [
      "\u001b[0;31m---------------------------------------------------------------------------\u001b[0m",
      "\u001b[0;31mAssertionError\u001b[0m                            Traceback (most recent call last)",
      "Input \u001b[0;32mIn [7]\u001b[0m, in \u001b[0;36m<cell line: 7>\u001b[0;34m()\u001b[0m\n\u001b[1;32m      7\u001b[0m \u001b[38;5;28;01mif\u001b[39;00m \u001b[38;5;18m__name__\u001b[39m \u001b[38;5;241m==\u001b[39m \u001b[38;5;124m'\u001b[39m\u001b[38;5;124m__main__\u001b[39m\u001b[38;5;124m'\u001b[39m:\n\u001b[1;32m      8\u001b[0m     test_sum()\n\u001b[0;32m----> 9\u001b[0m     \u001b[43mtest_sum_tuple\u001b[49m\u001b[43m(\u001b[49m\u001b[43m)\u001b[49m\n\u001b[1;32m     10\u001b[0m     \u001b[38;5;28mprint\u001b[39m(\u001b[38;5;124m\"\u001b[39m\u001b[38;5;124mEverything passed\u001b[39m\u001b[38;5;124m\"\u001b[39m)\n",
      "Input \u001b[0;32mIn [7]\u001b[0m, in \u001b[0;36mtest_sum_tuple\u001b[0;34m()\u001b[0m\n\u001b[1;32m      4\u001b[0m \u001b[38;5;28;01mdef\u001b[39;00m \u001b[38;5;21mtest_sum_tuple\u001b[39m():\n\u001b[0;32m----> 5\u001b[0m     \u001b[38;5;28;01massert\u001b[39;00m \u001b[38;5;28msum\u001b[39m((\u001b[38;5;241m1\u001b[39m, \u001b[38;5;241m2\u001b[39m, \u001b[38;5;241m2\u001b[39m)) \u001b[38;5;241m==\u001b[39m \u001b[38;5;241m6\u001b[39m, \u001b[38;5;124m\"\u001b[39m\u001b[38;5;124mShould be 6\u001b[39m\u001b[38;5;124m\"\u001b[39m\n",
      "\u001b[0;31mAssertionError\u001b[0m: Should be 6"
     ]
    }
   ],
   "source": [
    "def test_sum():\n",
    "    assert sum([1, 2, 3]) == 6, \"Should be 6\"\n",
    "\n",
    "def test_sum_tuple():\n",
    "    assert sum((1, 2, 2)) == 6, \"Should be 6\"\n",
    "\n",
    "if __name__ == '__main__':\n",
    "    test_sum()\n",
    "    test_sum_tuple()\n",
    "    print(\"Everything passed\")"
   ]
  },
  {
   "cell_type": "code",
   "execution_count": 10,
   "id": "be3ba3f3",
   "metadata": {
    "scrolled": true
   },
   "outputs": [
    {
     "name": "stderr",
     "output_type": "stream",
     "text": [
      ".F\n",
      "======================================================================\n",
      "FAIL: test_sum_tuple (__main__.TestSum)\n",
      "----------------------------------------------------------------------\n",
      "Traceback (most recent call last):\n",
      "  File \"/var/folders/z1/qmxt5svs5nvfy9zjp6khpvnr0000gs/T/ipykernel_1135/3476329331.py\", line 8, in test_sum_tuple\n",
      "    self.assertEqual(sum((1, 2, 2)), 6, \"Should be 6\")\n",
      "AssertionError: 5 != 6 : Should be 6\n",
      "\n",
      "----------------------------------------------------------------------\n",
      "Ran 2 tests in 0.002s\n",
      "\n",
      "FAILED (failures=1)\n"
     ]
    }
   ],
   "source": [
    "import unittest\n",
    "\n",
    "\n",
    "class TestSum(unittest.TestCase):\n",
    "    def test_sum(self):\n",
    "        self.assertEqual(sum([1, 2, 3]), 6, \"Should be 6\")\n",
    "    def test_sum_tuple(self):\n",
    "        self.assertEqual(sum((1, 2, 2)), 6, \"Should be 6\")\n",
    "\n",
    "if __name__ == '__main__':\n",
    "    unittest.main(argv=['first-arg-is-ignored'], exit=False)\n"
   ]
  },
  {
   "cell_type": "code",
   "execution_count": 12,
   "id": "28289cea",
   "metadata": {
    "scrolled": true
   },
   "outputs": [
    {
     "name": "stdout",
     "output_type": "stream",
     "text": [
      "\r\n",
      "----------------------------------------------------------------------\r\n",
      "Ran 0 tests in 0.000s\r\n",
      "\r\n",
      "OK\r\n"
     ]
    }
   ],
   "source": [
    "!python3 -m nose2"
   ]
  },
  {
   "cell_type": "code",
   "execution_count": 24,
   "id": "83361aaa",
   "metadata": {},
   "outputs": [],
   "source": [
    "def test_sum():\n",
    "    assert sum([1, 2, 3]) == 6, \"Should be 6\"\n",
    "\n",
    "def test_sum_tuple():\n",
    "    assert sum((1, 2, 2)) == 6, \"Should be 6\"\n"
   ]
  },
  {
   "cell_type": "markdown",
   "id": "f75f3ed3",
   "metadata": {},
   "source": [
    "<h3>Writing Your First Test</h3>"
   ]
  },
  {
   "cell_type": "code",
   "execution_count": 14,
   "id": "3872d39b",
   "metadata": {},
   "outputs": [
    {
     "name": "stderr",
     "output_type": "stream",
     "text": [
      ".\n",
      "----------------------------------------------------------------------\n",
      "Ran 1 test in 0.001s\n",
      "\n",
      "OK\n"
     ]
    }
   ],
   "source": [
    "import unittest\n",
    "\n",
    "def sum(arg):\n",
    "    total = 0\n",
    "    for val in arg:\n",
    "        total += val\n",
    "    return total\n",
    "\n",
    "class TestSum(unittest.TestCase):\n",
    "    def test_list_int(self):\n",
    "        \"\"\"\n",
    "        Test that it can sum a list of integers\n",
    "        \"\"\"\n",
    "        data = [1, 2, 3]\n",
    "        result = sum(data)\n",
    "        self.assertEqual(result, 6)\n",
    "\n",
    "if __name__ == '__main__':\n",
    "    unittest.main(argv=['first-arg-is-ignored'], exit=False)\n"
   ]
  },
  {
   "cell_type": "markdown",
   "id": "a5b2b7ca",
   "metadata": {},
   "source": [
    "<h3>Executing Your First Test</h3>"
   ]
  },
  {
   "cell_type": "code",
   "execution_count": 15,
   "id": "f242e0c1",
   "metadata": {
    "scrolled": true
   },
   "outputs": [
    {
     "name": "stdout",
     "output_type": "stream",
     "text": [
      "\r\n",
      "----------------------------------------------------------------------\r\n",
      "Ran 0 tests in 0.000s\r\n",
      "\r\n",
      "OK\r\n"
     ]
    }
   ],
   "source": [
    "! python3 -m unittest test"
   ]
  },
  {
   "cell_type": "code",
   "execution_count": 16,
   "id": "385e7ab5",
   "metadata": {
    "scrolled": true
   },
   "outputs": [
    {
     "name": "stdout",
     "output_type": "stream",
     "text": [
      "\r\n",
      "----------------------------------------------------------------------\r\n",
      "Ran 0 tests in 0.000s\r\n",
      "\r\n",
      "OK\r\n"
     ]
    }
   ],
   "source": [
    "! python3 -m unittest -v test"
   ]
  },
  {
   "cell_type": "code",
   "execution_count": 19,
   "id": "4b0183ec",
   "metadata": {
    "scrolled": true
   },
   "outputs": [
    {
     "name": "stdout",
     "output_type": "stream",
     "text": [
      "\r\n",
      "----------------------------------------------------------------------\r\n",
      "Ran 0 tests in 0.000s\r\n",
      "\r\n",
      "OK\r\n"
     ]
    }
   ],
   "source": [
    "! python3 -m unittest discover"
   ]
  },
  {
   "cell_type": "code",
   "execution_count": 20,
   "id": "d7dcf74d",
   "metadata": {},
   "outputs": [
    {
     "name": "stdout",
     "output_type": "stream",
     "text": [
      "Traceback (most recent call last):\r\n",
      "  File \"/Users/mhaney29/opt/anaconda3/lib/python3.9/runpy.py\", line 197, in _run_module_as_main\r\n",
      "    return _run_code(code, main_globals, None,\r\n",
      "  File \"/Users/mhaney29/opt/anaconda3/lib/python3.9/runpy.py\", line 87, in _run_code\r\n",
      "    exec(code, run_globals)\r\n",
      "  File \"/Users/mhaney29/opt/anaconda3/lib/python3.9/unittest/__main__.py\", line 18, in <module>\r\n",
      "    main(module=None)\r\n",
      "  File \"/Users/mhaney29/opt/anaconda3/lib/python3.9/unittest/main.py\", line 100, in __init__\r\n",
      "    self.parseArgs(argv)\r\n",
      "  File \"/Users/mhaney29/opt/anaconda3/lib/python3.9/unittest/main.py\", line 124, in parseArgs\r\n",
      "    self._do_discovery(argv[2:])\r\n",
      "  File \"/Users/mhaney29/opt/anaconda3/lib/python3.9/unittest/main.py\", line 244, in _do_discovery\r\n",
      "    self.createTests(from_discovery=True, Loader=Loader)\r\n",
      "  File \"/Users/mhaney29/opt/anaconda3/lib/python3.9/unittest/main.py\", line 154, in createTests\r\n",
      "    self.test = loader.discover(self.start, self.pattern, self.top)\r\n",
      "  File \"/Users/mhaney29/opt/anaconda3/lib/python3.9/unittest/loader.py\", line 346, in discover\r\n",
      "    raise ImportError('Start directory is not importable: %r' % start_dir)\r\n",
      "ImportError: Start directory is not importable: 'tests'\r\n"
     ]
    }
   ],
   "source": [
    "! python3 -m unittest discover -s tests"
   ]
  },
  {
   "cell_type": "code",
   "execution_count": 21,
   "id": "1c5df0e3",
   "metadata": {
    "scrolled": true
   },
   "outputs": [
    {
     "name": "stdout",
     "output_type": "stream",
     "text": [
      "Traceback (most recent call last):\r\n",
      "  File \"/Users/mhaney29/opt/anaconda3/lib/python3.9/runpy.py\", line 197, in _run_module_as_main\r\n",
      "    return _run_code(code, main_globals, None,\r\n",
      "  File \"/Users/mhaney29/opt/anaconda3/lib/python3.9/runpy.py\", line 87, in _run_code\r\n",
      "    exec(code, run_globals)\r\n",
      "  File \"/Users/mhaney29/opt/anaconda3/lib/python3.9/unittest/__main__.py\", line 18, in <module>\r\n",
      "    main(module=None)\r\n",
      "  File \"/Users/mhaney29/opt/anaconda3/lib/python3.9/unittest/main.py\", line 100, in __init__\r\n",
      "    self.parseArgs(argv)\r\n",
      "  File \"/Users/mhaney29/opt/anaconda3/lib/python3.9/unittest/main.py\", line 124, in parseArgs\r\n",
      "    self._do_discovery(argv[2:])\r\n",
      "  File \"/Users/mhaney29/opt/anaconda3/lib/python3.9/unittest/main.py\", line 244, in _do_discovery\r\n",
      "    self.createTests(from_discovery=True, Loader=Loader)\r\n",
      "  File \"/Users/mhaney29/opt/anaconda3/lib/python3.9/unittest/main.py\", line 154, in createTests\r\n",
      "    self.test = loader.discover(self.start, self.pattern, self.top)\r\n",
      "  File \"/Users/mhaney29/opt/anaconda3/lib/python3.9/unittest/loader.py\", line 346, in discover\r\n",
      "    raise ImportError('Start directory is not importable: %r' % start_dir)\r\n",
      "ImportError: Start directory is not importable: 'tests'\r\n"
     ]
    }
   ],
   "source": [
    "! python3 -m unittest discover -s tests -t src"
   ]
  },
  {
   "cell_type": "code",
   "execution_count": 23,
   "id": "b96b269b",
   "metadata": {},
   "outputs": [
    {
     "name": "stderr",
     "output_type": "stream",
     "text": [
      "F.\n",
      "======================================================================\n",
      "FAIL: test_list_fraction (__main__.TestSum)\n",
      "Test that it can sum a list of fractions\n",
      "----------------------------------------------------------------------\n",
      "Traceback (most recent call last):\n",
      "  File \"/var/folders/z1/qmxt5svs5nvfy9zjp6khpvnr0000gs/T/ipykernel_1135/1265026466.py\", line 26, in test_list_fraction\n",
      "    self.assertEqual(result, 1)\n",
      "AssertionError: Fraction(9, 10) != 1\n",
      "\n",
      "----------------------------------------------------------------------\n",
      "Ran 2 tests in 0.001s\n",
      "\n",
      "FAILED (failures=1)\n"
     ]
    }
   ],
   "source": [
    "from fractions import Fraction\n",
    "import unittest\n",
    "\n",
    "def sum(arg):\n",
    "    total = 0\n",
    "    for val in arg:\n",
    "        total += val\n",
    "    return total\n",
    "\n",
    "\n",
    "class TestSum(unittest.TestCase):\n",
    "    def test_list_int(self):\n",
    "        \"\"\"\n",
    "        Test that it can sum a list of integers\n",
    "        \"\"\"\n",
    "        data = [1, 2, 3]\n",
    "        result = sum(data)\n",
    "        self.assertEqual(result, 6)\n",
    "\n",
    "    def test_list_fraction(self):\n",
    "        \"\"\"\n",
    "        Test that it can sum a list of fractions\n",
    "        \"\"\"\n",
    "        data = [Fraction(1, 4), Fraction(1, 4), Fraction(2, 5)]\n",
    "        result = sum(data)\n",
    "        self.assertEqual(result, 1)\n",
    "\n",
    "if __name__ == '__main__':\n",
    "    unittest.main(argv=['first-arg-is-ignored'], exit=False)\n",
    "\n"
   ]
  },
  {
   "cell_type": "markdown",
   "id": "1fcf48d8",
   "metadata": {},
   "source": [
    "<h3>Describe the test results in your own words.  What do the test results mean? </h3"
   ]
  },
  {
   "cell_type": "markdown",
   "id": "a54c4985",
   "metadata": {},
   "source": [
    "With test results we need to be able to interpret the output. With the first example, everything passed. Then we started to receive failed tests. The number of tests ran is reported along with the number of failures. Failure output gives more detail such as \"AssertionError: 5 != 6 : Should be 6\" and \"AssertionError: Fraction(9, 10) != 1\". This is helpful for debugging purposes."
   ]
  }
 ],
 "metadata": {
  "kernelspec": {
   "display_name": "Python 3 (ipykernel)",
   "language": "python",
   "name": "python3"
  },
  "language_info": {
   "codemirror_mode": {
    "name": "ipython",
    "version": 3
   },
   "file_extension": ".py",
   "mimetype": "text/x-python",
   "name": "python",
   "nbconvert_exporter": "python",
   "pygments_lexer": "ipython3",
   "version": "3.9.12"
  }
 },
 "nbformat": 4,
 "nbformat_minor": 5
}
